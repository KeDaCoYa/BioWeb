{
 "cells": [
  {
   "cell_type": "code",
   "execution_count": 7,
   "metadata": {
    "collapsed": true
   },
   "outputs": [],
   "source": [
    "examples = {'cost_time': '0.011',\n",
    "    'entities': [\n",
    "    {'entity_type': 'Disease', 'start_idx': 32, 'end_idx': 33, 'entity_name': 'gastric cancer', 'pos': 0, 'id': 'e0',\n",
    "     'norm_id': 'D013274', 'url': 'https://meshb-prev.nlm.nih.gov/record/ui?ui=D013274', 'norm_name': 'Gastric Cancer',\n",
    "     'span': {'begin': 171, 'end': 185}},\n",
    "    {'entity_type': 'Disease', 'start_idx': 19, 'end_idx': 20, 'entity_name': 'gastric cancer', 'pos': 1, 'id': 'e5',\n",
    "     'norm_id': 'D013274', 'url': 'https://meshb-prev.nlm.nih.gov/record/ui?ui=D013274', 'norm_name': 'Gastric Cancer',\n",
    "     'span': {'begin': 309, 'end': 323}},\n",
    "    {'entity_type': 'Disease', 'start_idx': 3, 'end_idx': 3, 'entity_name': 'tumor', 'pos': 3, 'id': 'e12',\n",
    "     'norm_id': 'D009369', 'url': 'https://meshb-prev.nlm.nih.gov/record/ui?ui=D009369', 'norm_name': 'Tumor',\n",
    "     'span': {'begin': 518, 'end': 523}},\n",
    "    {'entity_type': 'Disease', 'start_idx': 20, 'end_idx': 21, 'entity_name': 'gastric cancer', 'pos': 5, 'id': 'e20',\n",
    "     'norm_id': 'D013274', 'url': 'https://meshb-prev.nlm.nih.gov/record/ui?ui=D013274', 'norm_name': 'Gastric Cancer',\n",
    "     'span': {'begin': 925, 'end': 939}},\n",
    "    {'entity_type': 'Disease', 'start_idx': 24, 'end_idx': 24, 'entity_name': 'gastric', 'pos': 5, 'id': 'e21',\n",
    "     'norm_id': 'D013274', 'url': 'https://meshb-prev.nlm.nih.gov/record/ui?ui=D013274', 'norm_name': 'Cancer, Gastric',\n",
    "     'span': {'begin': 952, 'end': 959}},\n",
    "    {'entity_type': 'Disease', 'start_idx': 18, 'end_idx': 19, 'entity_name': 'gastric cancer', 'pos': 6, 'id': 'e26',\n",
    "     'norm_id': 'D013274', 'url': 'https://meshb-prev.nlm.nih.gov/record/ui?ui=D013274', 'norm_name': 'Gastric Cancer',\n",
    "     'span': {'begin': 1077, 'end': 1091}},\n",
    "    {'entity_type': 'Disease', 'start_idx': 29, 'end_idx': 30, 'entity_name': 'gastric cancer', 'pos': 6, 'id': 'e27',\n",
    "     'norm_id': 'D013274', 'url': 'https://meshb-prev.nlm.nih.gov/record/ui?ui=D013274', 'norm_name': 'Gastric Cancer',\n",
    "     'span': {'begin': 1144, 'end': 1158}},\n",
    "    {'entity_type': 'Gene/Protein', 'start_idx': 6, 'end_idx': 6, 'entity_name': 'H19', 'pos': 0, 'id': 'e1',\n",
    "     'norm_id': 'EntrezGene:283120', 'url': 'https://www.ncbi.nlm.nih.gov/gene/283120', 'norm_name': 'H19',\n",
    "     'span': {'begin': 26, 'end': 29}},\n",
    "    {'entity_type': 'Gene/Protein', 'start_idx': 9, 'end_idx': 11, 'entity_name': 'miR - 675', 'pos': 0, 'id': 'e2',\n",
    "     'norm_id': 'EntrezGene:100033819', 'url': 'https://www.ncbi.nlm.nih.gov/gene/100033819',\n",
    "     'norm_name': 'microRNA 675', 'span': {'begin': 40, 'end': 49}},\n",
    "    {'entity_type': 'Gene/Protein', 'start_idx': 19, 'end_idx': 19, 'entity_name': 'H19', 'pos': 0, 'id': 'e3',\n",
    "     'norm_id': 'EntrezGene:283120', 'url': 'https://www.ncbi.nlm.nih.gov/gene/283120', 'norm_name': 'H19',\n",
    "     'span': {'begin': 97, 'end': 100}},\n",
    "    {'entity_type': 'Gene/Protein', 'start_idx': 7, 'end_idx': 7, 'entity_name': 'H19', 'pos': 1, 'id': 'e6',\n",
    "     'norm_id': 'EntrezGene:283120', 'url': 'https://www.ncbi.nlm.nih.gov/gene/283120', 'norm_name': 'H19',\n",
    "     'span': {'begin': 247, 'end': 250}},\n",
    "    {'entity_type': 'Gene/Protein', 'start_idx': 12, 'end_idx': 14, 'entity_name': 'miR - 675', 'pos': 1, 'id': 'e7',\n",
    "     'norm_id': 'EntrezGene:100033819', 'url': 'https://www.ncbi.nlm.nih.gov/gene/100033819',\n",
    "     'norm_name': 'microRNA 675', 'span': {'begin': 274, 'end': 283}},\n",
    "    {'entity_type': 'Gene/Protein', 'start_idx': 7, 'end_idx': 9, 'entity_name': 'miR - 675', 'pos': 2, 'id': 'e8',\n",
    "     'norm_id': 'EntrezGene:100033819', 'url': 'https://www.ncbi.nlm.nih.gov/gene/100033819',\n",
    "     'norm_name': 'microRNA 675', 'span': {'begin': 372, 'end': 381}},\n",
    "    {'entity_type': 'Gene/Protein', 'start_idx': 14, 'end_idx': 14, 'entity_name': 'H19', 'pos': 2, 'id': 'e9',\n",
    "     'norm_id': 'EntrezGene:283120', 'url': 'https://www.ncbi.nlm.nih.gov/gene/283120', 'norm_name': 'H19',\n",
    "     'span': {'begin': 412, 'end': 415}},\n",
    "    {'entity_type': 'Gene/Protein', 'start_idx': 21, 'end_idx': 21, 'entity_name': 'H19', 'pos': 2, 'id': 'e10',\n",
    "     'norm_id': 'EntrezGene:283120', 'url': 'https://www.ncbi.nlm.nih.gov/gene/283120', 'norm_name': 'H19',\n",
    "     'span': {'begin': 446, 'end': 449}}, {'entity_type': 'Gene/Protein', 'start_idx': 3, 'end_idx': 8,\n",
    "                                           'entity_name': 'tumor suppressor Runt Domain Transcription Factor1',\n",
    "                                           'pos': 3, 'id': 'e13', 'norm_id': 'EntrezGene:861',\n",
    "                                           'url': 'https://www.ncbi.nlm.nih.gov/gene/861',\n",
    "                                           'norm_name': 'runt-related transcription factor 1',\n",
    "                                           'span': {'begin': 518, 'end': 568}},\n",
    "    {'entity_type': 'Gene/Protein', 'start_idx': 10, 'end_idx': 10, 'entity_name': 'RUNX1', 'pos': 3, 'id': 'e14',\n",
    "     'norm_id': 'EntrezGene:861', 'url': 'https://www.ncbi.nlm.nih.gov/gene/861', 'norm_name': 'RUNX1',\n",
    "     'span': {'begin': 571, 'end': 576}},\n",
    "    {'entity_type': 'Gene/Protein', 'start_idx': 20, 'end_idx': 22, 'entity_name': 'miR - 675', 'pos': 3, 'id': 'e15',\n",
    "     'norm_id': 'EntrezGene:100033819', 'url': 'https://www.ncbi.nlm.nih.gov/gene/100033819',\n",
    "     'norm_name': 'microRNA 675', 'span': {'begin': 618, 'end': 627}},\n",
    "    {'entity_type': 'Gene/Protein', 'start_idx': 7, 'end_idx': 7, 'entity_name': 'RUNX1', 'pos': 4, 'id': 'e16',\n",
    "     'norm_id': 'EntrezGene:861', 'url': 'https://www.ncbi.nlm.nih.gov/gene/861', 'norm_name': 'RUNX1',\n",
    "     'span': {'begin': 735, 'end': 740}},\n",
    "    {'entity_type': 'Gene/Protein', 'start_idx': 9, 'end_idx': 9, 'entity_name': 'H19', 'pos': 4, 'id': 'e17',\n",
    "     'norm_id': 'EntrezGene:283120', 'url': 'https://www.ncbi.nlm.nih.gov/gene/283120', 'norm_name': 'H19',\n",
    "     'span': {'begin': 750, 'end': 753}},\n",
    "    {'entity_type': 'Gene/Protein', 'start_idx': 11, 'end_idx': 13, 'entity_name': 'miR - 67', 'pos': 4, 'id': 'e18',\n",
    "     'norm_id': 'EntrezGene:102465459', 'url': 'https://www.ncbi.nlm.nih.gov/gene/102465459',\n",
    "     'norm_name': 'microRNA 6767', 'span': {'begin': 756, 'end': 764}},\n",
    "    {'entity_type': 'Gene/Protein', 'start_idx': 9, 'end_idx': 9, 'entity_name': 'RUNX1', 'pos': 5, 'id': 'e22',\n",
    "     'norm_id': 'EntrezGene:861', 'url': 'https://www.ncbi.nlm.nih.gov/gene/861', 'norm_name': 'RUNX1',\n",
    "     'span': {'begin': 878, 'end': 883}},\n",
    "    {'entity_type': 'Gene/Protein', 'start_idx': 11, 'end_idx': 11, 'entity_name': 'H19', 'pos': 5, 'id': 'e23',\n",
    "     'norm_id': 'EntrezGene:283120', 'url': 'https://www.ncbi.nlm.nih.gov/gene/283120', 'norm_name': 'H19',\n",
    "     'span': {'begin': 888, 'end': 891}},\n",
    "    {'entity_type': 'Gene/Protein', 'start_idx': 13, 'end_idx': 15, 'entity_name': 'miR - 675', 'pos': 5, 'id': 'e24',\n",
    "     'norm_id': 'EntrezGene:100033819', 'url': 'https://www.ncbi.nlm.nih.gov/gene/100033819',\n",
    "     'norm_name': 'microRNA 675', 'span': {'begin': 894, 'end': 903}},\n",
    "    {'entity_type': 'Gene/Protein', 'start_idx': 10, 'end_idx': 10, 'entity_name': 'H19', 'pos': 6, 'id': 'e28',\n",
    "     'norm_id': 'EntrezGene:283120', 'url': 'https://www.ncbi.nlm.nih.gov/gene/283120', 'norm_name': 'H19',\n",
    "     'span': {'begin': 1043, 'end': 1046}},\n",
    "    {'entity_type': 'Gene/Protein', 'start_idx': 12, 'end_idx': 14, 'entity_name': 'miR - 675', 'pos': 6, 'id': 'e29',\n",
    "     'norm_id': 'EntrezGene:100033819', 'url': 'https://www.ncbi.nlm.nih.gov/gene/100033819',\n",
    "     'norm_name': 'microRNA 675', 'span': {'begin': 1049, 'end': 1058}},\n",
    "    {'entity_type': 'Gene/Protein', 'start_idx': 16, 'end_idx': 16, 'entity_name': 'RUNX1', 'pos': 6, 'id': 'e30',\n",
    "     'norm_id': 'EntrezGene:861', 'url': 'https://www.ncbi.nlm.nih.gov/gene/861', 'norm_name': 'RUNX1',\n",
    "     'span': {'begin': 1061, 'end': 1066}},\n",
    "    {'entity_type': 'Species', 'start_idx': 13, 'end_idx': 13, 'entity_name': 'human', 'pos': 0, 'id': 'e4',\n",
    "     'norm_id': '960605', 'url': 'https://www.ncbi.nlm.nih.gov/Taxonomy/Browser/wwwtax.cgi?mode=Info&id=9606',\n",
    "     'norm_name': 'Human', 'span': {'begin': 60, 'end': 65}},\n",
    "    {'entity_type': 'cell_line', 'start_idx': 24, 'end_idx': 26, 'entity_name': 'gastric cancer cell', 'pos': 2,\n",
    "     'id': 'e11', 'norm_id': 'CVCL_WG11', 'url': 'https://web.expasy.org/cellosaurus/CVCL_WG11',\n",
    "     'norm_name': 'Oral Cancer Cell-09', 'span': {'begin': 460, 'end': 479}},\n",
    "    {'entity_type': 'cell_line', 'start_idx': 16, 'end_idx': 18, 'entity_name': 'gastric cancer cell', 'pos': 4,\n",
    "     'id': 'e19', 'norm_id': 'CVCL_WG11', 'url': 'https://web.expasy.org/cellosaurus/CVCL_WG11',\n",
    "     'norm_name': 'Oral Cancer Cell-09', 'span': {'begin': 775, 'end': 794}},\n",
    "    {'entity_type': 'cell_line', 'start_idx': 24, 'end_idx': 27, 'entity_name': 'gastric cancer cell lines', 'pos': 5,\n",
    "     'id': 'e25', 'norm_id': 'CVCL_1579', 'url': 'https://web.expasy.org/cellosaurus/CVCL_1579', 'norm_name': 'NCI-H69',\n",
    "     'span': {'begin': 952, 'end': 977}},\n",
    "    {'entity_type': 'DNA', 'start_idx': 16, 'end_idx': 16, 'entity_name': 'RUNX1', 'pos': 6, 'id': 'e31',\n",
    "     'norm_id': 'EntrezGene:861', 'url': 'https://www.ncbi.nlm.nih.gov/gene/861', 'norm_name': 'RUNX1',\n",
    "     'span': {'begin': 1061, 'end': 1066}}],\n",
    "\n",
    "    'triplets': [\n",
    "    {'rel_id': 'r15', 'e1_id': 'e5', 'e2_id': 'e7', 'rel_type': 'Gene/Protein-Disease Interaction',\n",
    "     'ent1_name': 'gastric cancer', 'ent1_type': 'Disease', 'ent1_pos': 1, 'ent1_norm_name': 'Gastric Cancer',\n",
    "     'ent1_norm_id': 'D013274', 'ent2_name': 'miR - 675', 'ent2_type': 'Gene/Protein', 'ent2_pos': 1,\n",
    "     'ent2_norm_name': 'microRNA 675', 'ent2_norm_id': 'EntrezGene:100033819'},\n",
    "    {'rel_id': 'r59', 'e1_id': 'e20', 'e2_id': 'e22', 'rel_type': 'Gene/Protein-Disease Interaction',\n",
    "     'ent1_name': 'gastric cancer', 'ent1_type': 'Disease', 'ent1_pos': 5, 'ent1_norm_name': 'Gastric Cancer',\n",
    "     'ent1_norm_id': 'D013274', 'ent2_name': 'RUNX1', 'ent2_type': 'Gene/Protein', 'ent2_pos': 5,\n",
    "     'ent2_norm_name': 'RUNX1', 'ent2_norm_id': 'EntrezGene:861'},\n",
    "    {'rel_id': 'r60', 'e1_id': 'e20', 'e2_id': 'e23', 'rel_type': 'Gene/Protein-Disease Interaction',\n",
    "     'ent1_name': 'gastric cancer', 'ent1_type': 'Disease', 'ent1_pos': 5, 'ent1_norm_name': 'Gastric Cancer',\n",
    "     'ent1_norm_id': 'D013274', 'ent2_name': 'H19', 'ent2_type': 'Gene/Protein', 'ent2_pos': 5, 'ent2_norm_name': 'H19',\n",
    "     'ent2_norm_id': 'EntrezGene:283120'},\n",
    "    {'rel_id': 'r61', 'e1_id': 'e20', 'e2_id': 'e24', 'rel_type': 'Gene/Protein-Disease Interaction',\n",
    "     'ent1_name': 'gastric cancer', 'ent1_type': 'Disease', 'ent1_pos': 5, 'ent1_norm_name': 'Gastric Cancer',\n",
    "     'ent1_norm_id': 'D013274', 'ent2_name': 'miR - 675', 'ent2_type': 'Gene/Protein', 'ent2_pos': 5,\n",
    "     'ent2_norm_name': 'microRNA 675', 'ent2_norm_id': 'EntrezGene:100033819'},\n",
    "    {'rel_id': 'r79', 'e1_id': 'e21', 'e2_id': 'e22', 'rel_type': 'Gene/Protein-Disease Interaction',\n",
    "     'ent1_name': 'gastric', 'ent1_type': 'Disease', 'ent1_pos': 5, 'ent1_norm_name': 'Cancer, Gastric',\n",
    "     'ent1_norm_id': 'D013274', 'ent2_name': 'RUNX1', 'ent2_type': 'Gene/Protein', 'ent2_pos': 5,\n",
    "     'ent2_norm_name': 'RUNX1', 'ent2_norm_id': 'EntrezGene:861'},\n",
    "    {'rel_id': 'r81', 'e1_id': 'e21', 'e2_id': 'e24', 'rel_type': 'Gene/Protein-Disease Interaction',\n",
    "     'ent1_name': 'gastric', 'ent1_type': 'Disease', 'ent1_pos': 5, 'ent1_norm_name': 'Cancer, Gastric',\n",
    "     'ent1_norm_id': 'D013274', 'ent2_name': 'miR - 675', 'ent2_type': 'Gene/Protein', 'ent2_pos': 5,\n",
    "     'ent2_norm_name': 'microRNA 675', 'ent2_norm_id': 'EntrezGene:100033819'},\n",
    "    {'rel_id': 'r103', 'e1_id': 'e26', 'e2_id': 'e29', 'rel_type': 'Gene/Protein-Disease Interaction',\n",
    "     'ent1_name': 'gastric cancer', 'ent1_type': 'Disease', 'ent1_pos': 6, 'ent1_norm_name': 'Gastric Cancer',\n",
    "     'ent1_norm_id': 'D013274', 'ent2_name': 'miR - 675', 'ent2_type': 'Gene/Protein', 'ent2_pos': 6,\n",
    "     'ent2_norm_name': 'microRNA 675', 'ent2_norm_id': 'EntrezGene:100033819'},\n",
    "    {'rel_id': 'r123', 'e1_id': 'e27', 'e2_id': 'e29', 'rel_type': 'Gene/Protein-Disease Interaction',\n",
    "     'ent1_name': 'gastric cancer', 'ent1_type': 'Disease', 'ent1_pos': 6, 'ent1_norm_name': 'Gastric Cancer',\n",
    "     'ent1_norm_id': 'D013274', 'ent2_name': 'miR - 675', 'ent2_type': 'Gene/Protein', 'ent2_pos': 6,\n",
    "     'ent2_norm_name': 'microRNA 675', 'ent2_norm_id': 'EntrezGene:100033819'},\n",
    "    {'rel_id': 'r125', 'e1_id': 'e1', 'e2_id': 'e2', 'rel_type': 'Gene/Protein-Gene/Protein Interaction',\n",
    "     'ent1_name': 'H19', 'ent1_type': 'Gene/Protein', 'ent1_pos': 0, 'ent1_norm_name': 'H19',\n",
    "     'ent1_norm_id': 'EntrezGene:283120', 'ent2_name': 'miR - 675', 'ent2_type': 'Gene/Protein', 'ent2_pos': 0,\n",
    "     'ent2_norm_name': 'microRNA 675', 'ent2_norm_id': 'EntrezGene:100033819'},\n",
    "    {'rel_id': 'r131', 'e1_id': 'e2', 'e2_id': 'e3', 'rel_type': 'Gene/Protein-Gene/Protein Interaction',\n",
    "     'ent1_name': 'miR - 675', 'ent1_type': 'Gene/Protein', 'ent1_pos': 0, 'ent1_norm_name': 'microRNA 675',\n",
    "     'ent1_norm_id': 'EntrezGene:100033819', 'ent2_name': 'H19', 'ent2_type': 'Gene/Protein', 'ent2_pos': 0,\n",
    "     'ent2_norm_name': 'H19', 'ent2_norm_id': 'EntrezGene:283120'},\n",
    "    {'rel_id': 'r156', 'e1_id': 'e8', 'e2_id': 'e9', 'rel_type': 'Gene/Protein-Gene/Protein Interaction',\n",
    "     'ent1_name': 'miR - 675', 'ent1_type': 'Gene/Protein', 'ent1_pos': 2, 'ent1_norm_name': 'microRNA 675',\n",
    "     'ent1_norm_id': 'EntrezGene:100033819', 'ent2_name': 'H19', 'ent2_type': 'Gene/Protein', 'ent2_pos': 2,\n",
    "     'ent2_norm_name': 'H19', 'ent2_norm_id': 'EntrezGene:283120'},\n",
    "    {'rel_id': 'r180', 'e1_id': 'e13', 'e2_id': 'e15', 'rel_type': 'Gene/Protein-Gene/Protein Interaction',\n",
    "     'ent1_name': 'tumor suppressor Runt Domain Transcription Factor1', 'ent1_type': 'Gene/Protein', 'ent1_pos': 3,\n",
    "     'ent1_norm_name': 'runt-related transcription factor 1', 'ent1_norm_id': 'EntrezGene:861',\n",
    "     'ent2_name': 'miR - 675', 'ent2_type': 'Gene/Protein', 'ent2_pos': 3, 'ent2_norm_name': 'microRNA 675',\n",
    "     'ent2_norm_id': 'EntrezGene:100033819'},\n",
    "    {'rel_id': 'r191', 'e1_id': 'e14', 'e2_id': 'e15', 'rel_type': 'Gene/Protein-Gene/Protein Interaction',\n",
    "     'ent1_name': 'RUNX1', 'ent1_type': 'Gene/Protein', 'ent1_pos': 3, 'ent1_norm_name': 'RUNX1',\n",
    "     'ent1_norm_id': 'EntrezGene:861', 'ent2_name': 'miR - 675', 'ent2_type': 'Gene/Protein', 'ent2_pos': 3,\n",
    "     'ent2_norm_name': 'microRNA 675', 'ent2_norm_id': 'EntrezGene:100033819'},\n",
    "    {'rel_id': 'r225', 'e1_id': 'e22', 'e2_id': 'e23', 'rel_type': 'Gene/Protein-Gene/Protein Interaction',\n",
    "     'ent1_name': 'RUNX1', 'ent1_type': 'Gene/Protein', 'ent1_pos': 5, 'ent1_norm_name': 'RUNX1',\n",
    "     'ent1_norm_id': 'EntrezGene:861', 'ent2_name': 'H19', 'ent2_type': 'Gene/Protein', 'ent2_pos': 5,\n",
    "     'ent2_norm_name': 'H19', 'ent2_norm_id': 'EntrezGene:283120'},\n",
    "    {'rel_id': 'r226', 'e1_id': 'e22', 'e2_id': 'e24', 'rel_type': 'Gene/Protein-Gene/Protein Interaction',\n",
    "     'ent1_name': 'RUNX1', 'ent1_type': 'Gene/Protein', 'ent1_pos': 5, 'ent1_norm_name': 'RUNX1',\n",
    "     'ent1_norm_id': 'EntrezGene:861', 'ent2_name': 'miR - 675', 'ent2_type': 'Gene/Protein', 'ent2_pos': 5,\n",
    "     'ent2_norm_name': 'microRNA 675', 'ent2_norm_id': 'EntrezGene:100033819'}],\n",
    "            'abstract_text': 'The long non - coding RNA H19 - derived miR - 675 modulates human gastric cancer cell The lncRNA H19 has been recently shown to be upregulated and play important roles in gastric cancer tumorigenesis . However , the precise molecular mechanism of H19 and its mature product miR - 675 in the carcinogenesis of gastric cancer remains unclear . In this study , we found that miR - 675 was positively expressed with H19 and was a pivotal mediator in H19 - induced gastric cancer cell growth promotion . Subsequently , the tumor suppressor Runt Domain Transcription Factor1 ( RUNX1 ) was confirmed to be a direct target of miR - 675 using a luciferase reporter assay and Western blotting analyses . A series of rescue assays indicated that RUNX1 mediated H19 / miR - 67 - induced gastric cancer cell phenotypic changes . Moreover , the inverse relationship between the expression of RUNX1 and H19 / miR - 675 was also revealed in gastric cancer tissues and gastric cancer cell lines . Taken together , our study demonstrated that the novel pathway H19 / miR - 675 / RUNX1 regulates gastric cancer development and may serve as a potential target for gastric cancer therapy . ',\n",
    "            'source': 'from_database'}"
   ]
  },
  {
   "cell_type": "code",
   "execution_count": 8,
   "metadata": {
    "collapsed": false,
    "pycharm": {
     "name": "#%%\n"
    }
   },
   "outputs": [
    {
     "data": {
      "text/plain": [
       "{'entity_type': 'Disease',\n",
       " 'start_idx': 32,\n",
       " 'end_idx': 33,\n",
       " 'entity_name': 'gastric cancer',\n",
       " 'pos': 0,\n",
       " 'id': 'e0',\n",
       " 'norm_id': 'D013274',\n",
       " 'url': 'https://meshb-prev.nlm.nih.gov/record/ui?ui=D013274',\n",
       " 'norm_name': 'Gastric Cancer',\n",
       " 'span': {'begin': 171, 'end': 185}}"
      ]
     },
     "execution_count": 8,
     "metadata": {},
     "output_type": "execute_result"
    }
   ],
   "source": [
    "examples['entities'][0]"
   ]
  },
  {
   "cell_type": "markdown",
   "metadata": {
    "collapsed": false,
    "pycharm": {
     "name": "#%% md\n"
    }
   },
   "source": [
    "解释上面的含义\n",
    "{\n",
    " 'entity_type': 'Disease', # 共八个类别\n",
    " 'start_idx': 32,          # start_idx,end_idx是单词级别的index，这里暂时没有用到\n",
    " 'end_idx': 33,\n",
    " 'entity_name': 'gastric cancer',\n",
    " 'pos': 0,                 # 这个表示在abstract_text的第pos个句子(0表示第一个句子)\n",
    " 'id': 'e0',               # 唯一ID\n",
    " 'norm_id': 'D013274',\n",
    " 'url': 'https://meshb-prev.nlm.nih.gov/record/ui?ui=D013274',\n",
    " 'norm_name': 'Gastric Cancer',\n",
    " 'span': {'begin': 171, 'end': 185} # 这是abstract text的字符范围\n",
    " }\n",
    "\n"
   ]
  },
  {
   "cell_type": "code",
   "execution_count": 10,
   "metadata": {
    "collapsed": false,
    "pycharm": {
     "name": "#%%\n"
    }
   },
   "outputs": [
    {
     "data": {
      "text/plain": [
       "{'rel_id': 'r15',\n",
       " 'e1_id': 'e5',\n",
       " 'e2_id': 'e7',\n",
       " 'rel_type': 'Gene/Protein-Disease Interaction',\n",
       " 'ent1_name': 'gastric cancer',\n",
       " 'ent1_type': 'Disease',\n",
       " 'ent1_pos': 1,\n",
       " 'ent1_norm_name': 'Gastric Cancer',\n",
       " 'ent1_norm_id': 'D013274',\n",
       " 'ent2_name': 'miR - 675',\n",
       " 'ent2_type': 'Gene/Protein',\n",
       " 'ent2_pos': 1,\n",
       " 'ent2_norm_name': 'microRNA 675',\n",
       " 'ent2_norm_id': 'EntrezGene:100033819'}"
      ]
     },
     "execution_count": 10,
     "metadata": {},
     "output_type": "execute_result"
    }
   ],
   "source": [
    "examples['triplets'][0]"
   ]
  },
  {
   "cell_type": "markdown",
   "metadata": {
    "collapsed": false,
    "pycharm": {
     "name": "#%% md\n"
    }
   },
   "source": [
    "{'rel_id': 'r15', # 三元组的ID\n",
    " 'e1_id': 'e5',   # 实体1的id\n",
    " 'e2_id': 'e7',   # 实体2的id\n",
    " 'rel_type': 'Gene/Protein-Disease Interaction', # 关系的类别\n",
    " 'ent1_name': 'gastric cancer',\n",
    " 'ent1_type': 'Disease',\n",
    " 'ent1_pos': 1,\n",
    " 'ent1_norm_name': 'Gastric Cancer',\n",
    " 'ent1_norm_id': 'D013274',\n",
    " 'ent2_name': 'miR - 675',\n",
    " 'ent2_type': 'Gene/Protein',\n",
    " 'ent2_pos': 1,\n",
    " 'ent2_norm_name': 'microRNA 675',\n",
    " 'ent2_norm_id': 'EntrezGene:100033819'\n",
    " }"
   ]
  }
 ],
 "metadata": {
  "kernelspec": {
   "display_name": "Python 3",
   "language": "python",
   "name": "python3"
  },
  "language_info": {
   "codemirror_mode": {
    "name": "ipython",
    "version": 2
   },
   "file_extension": ".py",
   "mimetype": "text/x-python",
   "name": "python",
   "nbconvert_exporter": "python",
   "pygments_lexer": "ipython2",
   "version": "2.7.6"
  }
 },
 "nbformat": 4,
 "nbformat_minor": 0
}
