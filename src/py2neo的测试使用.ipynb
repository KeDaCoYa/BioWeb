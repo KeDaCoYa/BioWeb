{
 "cells": [
  {
   "cell_type": "code",
   "execution_count": 1,
   "metadata": {
    "collapsed": true,
    "pycharm": {
     "name": "#%%\n"
    }
   },
   "outputs": [],
   "source": [
    "\n",
    "from py2neo import Graph,Node,Relationship,NodeMatcher,RelationshipMatcher\n"
   ]
  },
  {
   "cell_type": "code",
   "execution_count": 40,
   "outputs": [],
   "source": [
    "\n",
    "class Neo4jDatabase:\n",
    "    def __init__(self):\n",
    "\n",
    "        self.graph = Graph('http://10.10.64.190:8919', auth=(\"neo4j\", \"123456\"))\n",
    "        self.n_matcher = NodeMatcher(self.graph)\n",
    "        self.r_matcher = RelationshipMatcher(self.graph)\n",
    "\n",
    "    def return_all_dataset(self):\n",
    "        match_str = \"match (n) return n\"\n",
    "        res = self.graph.run(match_str)\n",
    "        return res.data()\n",
    "    def create_node(self,ent):\n",
    "        \"\"\"\n",
    "        构建一个生物医学实体\n",
    "        label:entity_type\n",
    "        id: 实体的唯一ID\n",
    "        name: 这是Node属性\n",
    "        \"\"\"\n",
    "        ent_name = ent['entity_name']\n",
    "        ent_id = ent['id']\n",
    "        entity_type = ent['entity_type']\n",
    "        ent_norm_id = ent['norm_id']\n",
    "        ent_norm_mention = ent['norm_name']\n",
    "        url = ent['url']\n",
    "        node = Node(ent_name,ent_id=ent_id,label=entity_type,kg_name='gastric_cancer_kg',name=ent_name,url=url,norm_id=ent_norm_id,normalize_ent_name=ent_norm_mention)\n",
    "        self.graph.create(node)\n",
    "\n",
    "    def create_relation(self,node1,node2):\n",
    "\n",
    "        rel = Relationship(node1,'interaction',node2)\n",
    "        self.graph.create(rel)\n",
    "\n",
    "    def filter_node_by_entity_type(self,entity_type):\n",
    "        \"\"\"\n",
    "        返回实体类别对应的所有节点\n",
    "        \"\"\"\n",
    "        node = self.n_matcher.match(label=entity_type)\n",
    "        return node.all()\n",
    "    def filter_node_all_relationse(self,ent,r_type=None):\n",
    "        \"\"\"\n",
    "        ：param ent:以这个ent为起点来查找他所有的关系\n",
    "        这个就是返回某个节点所对应的所有关系三员组(一个完整的结果,<n1,r,n2>)\n",
    "        \"\"\"\n",
    "        node = self.n_matcher.match(label='')\n",
    "        if r_type is None:\n",
    "            relations = self.r_matcher.match({node})\n",
    "            return relations.all()\n",
    "        else:\n",
    "            relations = self.r_matcher.match({node},r_type=r_type)\n",
    "            return relations.all()"
   ],
   "metadata": {
    "collapsed": false,
    "pycharm": {
     "name": "#%%\n"
    }
   }
  },
  {
   "cell_type": "code",
   "execution_count": 41,
   "outputs": [],
   "source": [
    "neo = Neo4jDatabase()"
   ],
   "metadata": {
    "collapsed": false,
    "pycharm": {
     "name": "#%%\n"
    }
   }
  },
  {
   "cell_type": "code",
   "execution_count": 42,
   "outputs": [],
   "source": [
    "node1 = neo.n_matcher.match(label=\"Disease\")"
   ],
   "metadata": {
    "collapsed": false,
    "pycharm": {
     "name": "#%%\n"
    }
   }
  },
  {
   "cell_type": "code",
   "execution_count": 47,
   "outputs": [
    {
     "data": {
      "text/plain": "py2neo.matching.NodeMatch"
     },
     "execution_count": 47,
     "metadata": {},
     "output_type": "execute_result"
    }
   ],
   "source": [
    "type(node1)"
   ],
   "metadata": {
    "collapsed": false,
    "pycharm": {
     "name": "#%%\n"
    }
   }
  },
  {
   "cell_type": "code",
   "execution_count": null,
   "outputs": [],
   "source": [
    "dir(node1)"
   ],
   "metadata": {
    "collapsed": false,
    "pycharm": {
     "name": "#%%\n",
     "is_executing": true
    }
   }
  },
  {
   "cell_type": "code",
   "execution_count": 55,
   "outputs": [
    {
     "data": {
      "text/plain": "Node('感冒', label='Disease', name='感冒')"
     },
     "execution_count": 55,
     "metadata": {},
     "output_type": "execute_result"
    }
   ],
   "source": [
    "node1.first()"
   ],
   "metadata": {
    "collapsed": false,
    "pycharm": {
     "name": "#%%\n"
    }
   }
  },
  {
   "cell_type": "code",
   "execution_count": 56,
   "outputs": [],
   "source": [
    "r_res = neo.r_matcher.match({node1.first()})"
   ],
   "metadata": {
    "collapsed": false,
    "pycharm": {
     "name": "#%%\n"
    }
   }
  },
  {
   "cell_type": "code",
   "execution_count": 60,
   "outputs": [
    {
     "data": {
      "text/plain": "[治疗(Node('阿斯匹林', label='Drug', name='阿斯匹林'), Node('感冒', label='Disease', name='感冒'))]"
     },
     "execution_count": 60,
     "metadata": {},
     "output_type": "execute_result"
    }
   ],
   "source": [
    "r_res.all()"
   ],
   "metadata": {
    "collapsed": false,
    "pycharm": {
     "name": "#%%\n"
    }
   }
  },
  {
   "cell_type": "code",
   "execution_count": 92,
   "outputs": [
    {
     "ename": "AttributeError",
     "evalue": "'治疗' object has no attribute 'relations'",
     "output_type": "error",
     "traceback": [
      "\u001B[0;31m---------------------------------------------------------------------------\u001B[0m",
      "\u001B[0;31mAttributeError\u001B[0m                            Traceback (most recent call last)",
      "\u001B[0;32m<ipython-input-92-d6039a03555a>\u001B[0m in \u001B[0;36m<module>\u001B[0;34m\u001B[0m\n\u001B[0;32m----> 1\u001B[0;31m \u001B[0mr_res\u001B[0m\u001B[0;34m.\u001B[0m\u001B[0mall\u001B[0m\u001B[0;34m(\u001B[0m\u001B[0;34m)\u001B[0m\u001B[0;34m[\u001B[0m\u001B[0;36m0\u001B[0m\u001B[0;34m]\u001B[0m\u001B[0;34m.\u001B[0m\u001B[0mrelations\u001B[0m\u001B[0;34m\u001B[0m\u001B[0;34m\u001B[0m\u001B[0m\n\u001B[0m",
      "\u001B[0;31mAttributeError\u001B[0m: '治疗' object has no attribute 'relations'"
     ]
    }
   ],
   "source": [
    "r_res.all()[0].relations"
   ],
   "metadata": {
    "collapsed": false,
    "pycharm": {
     "name": "#%%\n"
    }
   }
  },
  {
   "cell_type": "code",
   "execution_count": 95,
   "outputs": [],
   "source": [
    "node1,node2 = r_res.all()[0].nodes"
   ],
   "metadata": {
    "collapsed": false,
    "pycharm": {
     "name": "#%%\n"
    }
   }
  },
  {
   "cell_type": "code",
   "execution_count": 96,
   "outputs": [
    {
     "data": {
      "text/plain": "Node('阿斯匹林', label='Drug', name='阿斯匹林')"
     },
     "execution_count": 96,
     "metadata": {},
     "output_type": "execute_result"
    }
   ],
   "source": [
    "node1"
   ],
   "metadata": {
    "collapsed": false,
    "pycharm": {
     "name": "#%%\n"
    }
   }
  },
  {
   "cell_type": "code",
   "execution_count": 97,
   "outputs": [
    {
     "data": {
      "text/plain": "Node('感冒', label='Disease', name='感冒')"
     },
     "execution_count": 97,
     "metadata": {},
     "output_type": "execute_result"
    }
   ],
   "source": [
    "node2"
   ],
   "metadata": {
    "collapsed": false,
    "pycharm": {
     "name": "#%%\n"
    }
   }
  },
  {
   "cell_type": "code",
   "execution_count": 101,
   "outputs": [],
   "source": [
    "r_res = neo.r_matcher.match({node1,node2})"
   ],
   "metadata": {
    "collapsed": false,
    "pycharm": {
     "name": "#%%\n"
    }
   }
  },
  {
   "cell_type": "code",
   "execution_count": 104,
   "outputs": [
    {
     "data": {
      "text/plain": "['_Subgraph__nodes',\n '_Subgraph__relationships',\n '_Walkable__sequence',\n '__add__',\n '__and__',\n '__bool__',\n '__class__',\n '__contains__',\n '__db_create__',\n '__db_delete__',\n '__db_exists__',\n '__db_merge__',\n '__db_pull__',\n '__db_push__',\n '__db_separate__',\n '__delattr__',\n '__delitem__',\n '__dict__',\n '__dir__',\n '__doc__',\n '__eq__',\n '__format__',\n '__ge__',\n '__getattribute__',\n '__getitem__',\n '__gt__',\n '__hash__',\n '__iand__',\n '__init__',\n '__init_subclass__',\n '__ior__',\n '__isub__',\n '__iter__',\n '__ixor__',\n '__le__',\n '__len__',\n '__lt__',\n '__module__',\n '__name__',\n '__ne__',\n '__new__',\n '__nonzero__',\n '__or__',\n '__reduce__',\n '__reduce_ex__',\n '__repr__',\n '__setattr__',\n '__setitem__',\n '__sizeof__',\n '__str__',\n '__sub__',\n '__subclasshook__',\n '__uuid__',\n '__walk__',\n '__weakref__',\n '__xor__',\n '_graph',\n '_is_bound',\n '_stale',\n 'clear',\n 'copy',\n 'end_node',\n 'fromkeys',\n 'get',\n 'graph',\n 'identity',\n 'items',\n 'keys',\n 'labels',\n 'nodes',\n 'pop',\n 'popitem',\n 'ref',\n 'relationships',\n 'setdefault',\n 'start_node',\n 'type',\n 'types',\n 'update',\n 'values']"
     },
     "execution_count": 104,
     "metadata": {},
     "output_type": "execute_result"
    }
   ],
   "source": [
    "dir(r_res.all()[0])"
   ],
   "metadata": {
    "collapsed": false,
    "pycharm": {
     "name": "#%%\n"
    }
   }
  },
  {
   "cell_type": "code",
   "execution_count": 125,
   "outputs": [
    {
     "data": {
      "text/plain": "'治疗'"
     },
     "execution_count": 125,
     "metadata": {},
     "output_type": "execute_result"
    }
   ],
   "source": [
    "list(r_res.all()[0].types())[0]"
   ],
   "metadata": {
    "collapsed": false,
    "pycharm": {
     "name": "#%%\n"
    }
   }
  }
 ],
 "metadata": {
  "kernelspec": {
   "display_name": "Python 3",
   "language": "python",
   "name": "python3"
  },
  "language_info": {
   "codemirror_mode": {
    "name": "ipython",
    "version": 2
   },
   "file_extension": ".py",
   "mimetype": "text/x-python",
   "name": "python",
   "nbconvert_exporter": "python",
   "pygments_lexer": "ipython2",
   "version": "2.7.6"
  }
 },
 "nbformat": 4,
 "nbformat_minor": 0
}